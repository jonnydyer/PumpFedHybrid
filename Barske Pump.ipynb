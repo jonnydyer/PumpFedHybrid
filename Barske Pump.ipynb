{
 "cells": [
  {
   "cell_type": "code",
   "execution_count": 1,
   "metadata": {},
   "outputs": [
    {
     "name": "stdout",
     "output_type": "stream",
     "text": [
      "Populating the interactive namespace from numpy and matplotlib\n"
     ]
    }
   ],
   "source": [
    "%pylab inline\n",
    "from CoolProp.CoolProp import PropsSI\n",
    "\n",
    "plt.rcParams['figure.figsize'] = (10,6)\n",
    "plt.style.use('ggplot')mb"
   ]
  },
  {
   "cell_type": "code",
   "execution_count": 46,
   "metadata": {},
   "outputs": [],
   "source": [
    "atm_to_psia = 14.7        # psia / atm\n",
    "atm_to_Pa = 101325.       # Pa / atm\n",
    "psi_to_Pa = atm_to_Pa / atm_to_psia"
   ]
  },
  {
   "cell_type": "markdown",
   "metadata": {},
   "source": [
    "### Staring from requirements"
   ]
  },
  {
   "cell_type": "code",
   "execution_count": 107,
   "metadata": {},
   "outputs": [
    {
     "name": "stdout",
     "output_type": "stream",
     "text": [
      "0.948 2899.27466827\n"
     ]
    }
   ],
   "source": [
    "g0 = 9.80665         # m / sec^2\n",
    "N = 56000.\n",
    "psi = 0.70           # Head coefficient, see Lobanoff, Ross pg. 181\n",
    "phi = 1.3            # velocity ratio throat to impeller, pg. 182\n",
    "Ss = 7500.           # in US units of RPM, GPM, ft\n",
    "\n",
    "mdot = 0.948        #kg / s\n",
    "rho_lox = PropsSI('D', 'P', 101325, 'Q', 0, 'Oxygen')\n",
    "Q = mdot / rho_lox\n",
    "dP = 480 * psi_to_Pa\n",
    "H = dP / rho_lox\n",
    "\n",
    "D2 = 60 * np.sqrt(g0 * H / psi) / pi / N\n",
    "d1 = 2 * (Q / pi / phi)**0.5 * (psi / g0 / H)**0.25\n",
    "\n",
    "print Q*rho_lox, H"
   ]
  },
  {
   "cell_type": "code",
   "execution_count": 110,
   "metadata": {},
   "outputs": [
    {
     "name": "stdout",
     "output_type": "stream",
     "text": [
      "Mdot: 0.948 kg/s\n",
      "Head rise: 2899.3 m\n",
      "Specific speed : 211.0\n",
      "NPSHR: 24.8 m\n",
      "Suction pressure required: 40.3 psi\n",
      "Eye inlet diameter: 0.324 in\n",
      "Eye inlet velocity: 15.6 m/s\n",
      "Rotor diameter: 2.7 in\n",
      "Throat diameter: 0.079 in \n",
      "Throat velocity: 262.0 m/s\n"
     ]
    }
   ],
   "source": [
    "#d1 = 0.1 * .0254     # Outlet throad diameter, m\n",
    "#D2 = 3. * .0254      # Impeller outer diameter, m\n",
    "d2 = 0.5 * .0254     # Pump outlet diamter, m\n",
    "b2 = 0.25 * .0254    # Impeller outer height, m\n",
    "alpha = 15.          # deg\n",
    "theta = 30.          # deg\n",
    "\n",
    "omega = N / 60. * 2. * pi\n",
    "u2 = omega * D2 / 2.\n",
    "H = psi * u2**2 / g0\n",
    "Q = phi * u2 * pi * d1**2 / 4.\n",
    "\n",
    "Ns0 = 4847. * phi**0.5 * d1 / psi**0.75 / D2\n",
    "Ns = N * Q**0.5 / H**0.75\n",
    "Ss_si = Ss / SI_to_US\n",
    "NPSHR = H * (Ns / Ss_si)**1.333\n",
    "NPSPR = NPSHR * rho_lox * g0\n",
    "De = 5.1 * (Q * 264.172 * 60 / N)**0.33 * .0254\n",
    "Ve = Q / (pi * De**2 / 4)\n",
    "V1 = Q / (pi * d1**2 / 4)\n",
    "\n",
    "# Conversion to go from RPM, gpm, feet to RPM, m^3/s, m\n",
    "SI_to_US = (264.172 * 60)**0.5 / (3.28084)**0.75\n",
    "\n",
    "print 'Mdot: %.3f kg/s' % (Q*rho_lox)\n",
    "print 'Head rise: %.1f m' % H\n",
    "print 'Specific speed : %.1f' % (Ns * SI_to_US)\n",
    "print 'NPSHR: %.1f m' % NPSHR\n",
    "print 'Suction pressure required: %.1f psi' % (NPSPR / psi_to_Pa)\n",
    "print 'Eye inlet diameter: %.3f in' % (De / .0254)\n",
    "print 'Eye inlet velocity: %.1f m/s' % Ve\n",
    "print 'Rotor diameter: %.1f in' % (D2 / .0254)\n",
    "print 'Throat diameter: %.3f in ' % (d1 / .0254)\n",
    "print 'Throat velocity: %.1f m/s' % V1"
   ]
  },
  {
   "cell_type": "code",
   "execution_count": null,
   "metadata": {},
   "outputs": [],
   "source": []
  }
 ],
 "metadata": {
  "kernelspec": {
   "display_name": "Python [default]",
   "language": "python",
   "name": "python2"
  },
  "language_info": {
   "codemirror_mode": {
    "name": "ipython",
    "version": 2
   },
   "file_extension": ".py",
   "mimetype": "text/x-python",
   "name": "python",
   "nbconvert_exporter": "python",
   "pygments_lexer": "ipython2",
   "version": "2.7.15"
  }
 },
 "nbformat": 4,
 "nbformat_minor": 2
}
