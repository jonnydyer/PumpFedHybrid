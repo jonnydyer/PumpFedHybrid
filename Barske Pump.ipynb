{
 "cells": [
  {
   "cell_type": "code",
   "execution_count": 2,
   "metadata": {},
   "outputs": [
    {
     "name": "stdout",
     "output_type": "stream",
     "text": [
      "Populating the interactive namespace from numpy and matplotlib\n"
     ]
    }
   ],
   "source": [
    "%pylab inline\n",
    "from CoolProp.CoolProp import PropsSI\n",
    "\n",
    "plt.rcParams['figure.figsize'] = (10,6)\n",
    "plt.style.use('ggplot')"
   ]
  },
  {
   "cell_type": "code",
   "execution_count": 3,
   "metadata": {},
   "outputs": [],
   "source": [
    "atm_to_psia = 14.7        # psia / atm\n",
    "atm_to_Pa = 101325.       # Pa / atm\n",
    "psi_to_Pa = atm_to_Pa / atm_to_psia\n",
    "\n",
    "# Conversion to go from RPM, gpm, feet to RPM, m^3/s, m\n",
    "SI_to_US = (264.172 * 60)**0.5 / (3.28084)**0.75"
   ]
  },
  {
   "cell_type": "markdown",
   "metadata": {},
   "source": [
    "### References\n",
    "- [NASA SP-8109](https://ntrs.nasa.gov/archive/nasa/casi.ntrs.nasa.gov/19740020848.pdf)\n",
    "- [NASA SP-8121](https://ntrs.nasa.gov/archive/nasa/casi.ntrs.nasa.gov/19780022641.pdf)\n",
    "- [NASA SP-125 (Huzel and Huang)](https://ntrs.nasa.gov/archive/nasa/casi.ntrs.nasa.gov/19710019929.pdf)\n",
    "- [Centrifugal Pumps, Designs and Applications (Lobanoff)](https://catatanabimanyu.files.wordpress.com/2011/09/centrifugal_pumps_2e.pdf)\n",
    "- [Rotating and Positive Displacement Pumps for Low-thrust Engines CR-72965](https://ntrs.nasa.gov/archive/nasa/casi.ntrs.nasa.gov/19740015230.pdf)\n",
    "\n",
    "### Staring from requirements"
   ]
  },
  {
   "cell_type": "code",
   "execution_count": 9,
   "metadata": {},
   "outputs": [
    {
     "name": "stdout",
     "output_type": "stream",
     "text": [
      "Mdot: 1.000 kg/s\n",
      "Head rise: 2899.3 m\n",
      "Specific speed : 232.2 (0.4707 SI)\n",
      "NPSHR: 28.2 m\n",
      "Suction pressure required: 45.8 psi\n",
      "Eye inlet diameter: 0.322 in\n",
      "Eye inlet velocity: 16.7 m/s\n",
      "Rotor diameter: 2.5 in\n",
      "Blade inner height: 0.637 in\n",
      "Throat diameter: 0.081 in \n",
      "Throat velocity: 262.0 m/s\n",
      "Outlet velocity: 31.6 m/s\n",
      "Eye tangential velocity: 25.7 m/s\n",
      "Shaft seal surfaces speed: 31.4 m/s\n",
      "Seal dynamic pressure ~ 11.1 psia\n"
     ]
    }
   ],
   "source": [
    "g0 = 9.80665         # m / sec^2\n",
    "N = 60000.\n",
    "psi = 0.70           # Head coefficient, see Lobanoff, Ross pg. 181\n",
    "phi = 1.3            # velocity ratio throat to impeller, pg. 182\n",
    "Ss = 7500.           # in US units of RPM, GPM, ft\n",
    "\n",
    "mdot = 1.00          #kg / s\n",
    "rho_lox = PropsSI('D', 'P', 101325, 'Q', 0, 'Oxygen')\n",
    "Q = mdot / rho_lox\n",
    "dP = 480 * psi_to_Pa\n",
    "H = dP / rho_lox\n",
    "\n",
    "D2 = 60 * np.sqrt(g0 * H / psi) / pi / N\n",
    "d1 = 2 * (Q / pi / phi)**0.5 * (psi / g0 / H)**0.25\n",
    "\n",
    "#d1 = 0.1 * .0254      # Outlet throad diameter, m\n",
    "#D2 = 3. * .0254       # Impeller outer diameter, m\n",
    "Ds = 10e-3             # shaft diameter, m\n",
    "d2 = 0.234 * .0254     # Pump outlet diamter, m\n",
    "b2 = 0.25 * .0254      # Impeller outer height, m\n",
    "alpha = 15.            # deg\n",
    "theta = 30.            # deg\n",
    "\n",
    "omega = N / 60. * 2. * pi\n",
    "u2 = omega * D2 / 2.\n",
    "H = psi * u2**2 / g0\n",
    "Q = phi * u2 * pi * d1**2 / 4.\n",
    "\n",
    "Ns0 = 4847. * phi**0.5 * d1 / psi**0.75 / D2\n",
    "Ns = N * Q**0.5 / H**0.75\n",
    "Ss_si = Ss / SI_to_US\n",
    "NPSHR = H * (Ns / Ss_si)**1.333\n",
    "NPSPR = NPSHR * rho_lox * g0\n",
    "De = 5.1 * (Q * 264.172 * 60 / N)**0.33 * .0254\n",
    "Ve = Q / (pi * De**2 / 4)\n",
    "V1 = Q / (pi * d1**2 / 4)\n",
    "V2 = Q / (pi * d2**2 / 4)\n",
    "ue = omega * De / 2.\n",
    "Pe = ue**2 * rho_lox / g0\n",
    "h1 = d1 * (D2 / De)\n",
    "\n",
    "print 'Mdot: %.3f kg/s' % (Q*rho_lox)\n",
    "print 'Head rise: %.1f m' % H\n",
    "print 'Specific speed : %.1f (%.4f SI)' % (Ns * SI_to_US, Ns * 2 * pi / 60)\n",
    "print 'NPSHR: %.1f m' % NPSHR\n",
    "print 'Suction pressure required: %.1f psi' % (NPSPR / psi_to_Pa)\n",
    "print 'Eye inlet diameter: %.3f in' % (De / .0254)\n",
    "print 'Eye inlet velocity: %.1f m/s' % Ve\n",
    "print 'Rotor diameter: %.1f in' % (D2 / .0254)\n",
    "print 'Blade inner height: %.3f in' % (h1 / .0254)\n",
    "print 'Throat diameter: %.3f in ' % (d1 / .0254)\n",
    "print 'Throat velocity: %.1f m/s' % V1\n",
    "print 'Outlet velocity: %.1f m/s' % V2\n",
    "print 'Eye tangential velocity: %.1f m/s' % ue\n",
    "print 'Shaft seal surfaces speed: %.1f m/s' % (Ds * omega / 2)\n",
    "print 'Seal dynamic pressure ~ %.1f psia' % (Pe / psi_to_Pa)"
   ]
  },
  {
   "cell_type": "markdown",
   "metadata": {},
   "source": [
    "### Seal Options\n",
    "The Lehner 3040 motor has a 10mm shaft.\n",
    "\n",
    "- [John Crane Type 2100](https://www.johncrane.com/~/media/J/Johncrane_com/Files/Products/Technical%20Specification/Seals/TD-2100-8PG-BW-OCT2015.pdf) - very basic carbon mechanical (face) seal.  Available in 10mm shaft size.  Not rated for low temperature, high speed or oxygen service\n",
    "- [John Crane Type 285](https://www.johncrane.com/~/media/J/Johncrane_com/Files/Products/Technical%20Specification/Seals/TD-285-4PG-BW-OCT2015.pdf) - Specified for LOX service.  Pressure and speed quite a bit lower than desired (100 psig & 10,000 RPM).  Not clear what shaft sizes available\n",
    "- [John Crane Type 59U](https://www.johncrane.com/~/media/J/Johncrane_com/Files/Products/Technical%20Specification/Seals/TD-59U-59B-8PG-BW-OCT2015.pdf) - PTFE wedge should be compatible with LOX.  Only goes down to 14mm in catalog, would need to contact to see if they could do 10mm\n",
    "- [Daybreak Seals](https://www.daybreakworld.com/multispring-mechanical-seals.php) has some interesting options that mention Cryogenic operation and go down to 10mm\n",
    "- [Parker Catalog](https://www.parker.com/literature/Engineered%20Polymer%20Systems/5350.pdf) - looks like FlexiCase are the right product.  Part number M(metric)-0102(modified PTFE)-CMN(single machined lip)-0600(0.25in gland xsection)-01000(10mm shaft)-060(6mm width)-V(FKM flourocarbon gasket)-A(aluminum): [M-0102-CMN-0600-01000-060-V-A](http://ph.parker.com/us/17061/en/high-speed-low-torque-metal-case-ptfe-lip-rotary-shaft-seal-flexicase-cmn-cme)"
   ]
  },
  {
   "cell_type": "code",
   "execution_count": null,
   "metadata": {},
   "outputs": [],
   "source": []
  }
 ],
 "metadata": {
  "kernelspec": {
   "display_name": "Python [default]",
   "language": "python",
   "name": "python2"
  },
  "language_info": {
   "codemirror_mode": {
    "name": "ipython",
    "version": 2
   },
   "file_extension": ".py",
   "mimetype": "text/x-python",
   "name": "python",
   "nbconvert_exporter": "python",
   "pygments_lexer": "ipython2",
   "version": "2.7.15"
  }
 },
 "nbformat": 4,
 "nbformat_minor": 2
}
