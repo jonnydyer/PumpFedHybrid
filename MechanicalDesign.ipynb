{
 "cells": [
  {
   "cell_type": "code",
   "execution_count": 1,
   "metadata": {},
   "outputs": [
    {
     "name": "stdout",
     "output_type": "stream",
     "text": [
      "Populating the interactive namespace from numpy and matplotlib\n"
     ]
    }
   ],
   "source": [
    "%pylab inline"
   ]
  },
  {
   "cell_type": "markdown",
   "metadata": {},
   "source": [
    "## Pump impeller / shaft mount\n",
    "\n",
    "### Press / shrink fit\n",
    "Shigley is a good reference.  [This presentation](http://www.faculty.fairfield.edu/wdornfeld/ME311/PressCylinderHam.pdf) also has a good derivation of the relevant equations.\n",
    "\n",
    "From Shigley pg. 153, the equation relating surface pressure, $p$ to interference and other parameters is:\n",
    "\n",
    "$$\\delta = \\frac{pR}{E_o}\\left(\\frac{r_o^2+R^2}{r_o^2-R^2} + \\nu_o \\right) + \\frac{pR}{E_i}\\left(\\frac{r_i^2+R^2}{r_i^2-R^2} + \\nu_i \\right)$$\n",
    "\n",
    "where $R$ is the mating radius, $r_i$ is the inner diameter of the interior piece (0 for solid shaft), $r_o$ is outer diameter of outer piece, $E$ is elastic modulus of each piece and $\\nu$ is each material's poisson ratio.\n",
    "\n",
    "Once we know surface pressure, we can estimate torque handling by"
   ]
  },
  {
   "cell_type": "code",
   "execution_count": null,
   "metadata": {},
   "outputs": [],
   "source": [
    "CTE_Al = 23.9e-6           # 1/K\n",
    "CTE_Steel = 10.8e-6        # 1/K\n",
    "CTE_Stainless = 17.3e-6    # 1/K\n"
   ]
  }
 ],
 "metadata": {
  "kernelspec": {
   "display_name": "Python 2",
   "language": "python",
   "name": "python2"
  },
  "language_info": {
   "codemirror_mode": {
    "name": "ipython",
    "version": 2
   },
   "file_extension": ".py",
   "mimetype": "text/x-python",
   "name": "python",
   "nbconvert_exporter": "python",
   "pygments_lexer": "ipython2",
   "version": "2.7.15"
  }
 },
 "nbformat": 4,
 "nbformat_minor": 2
}
